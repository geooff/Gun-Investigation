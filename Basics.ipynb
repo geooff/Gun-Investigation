{
 "cells": [
  {
   "cell_type": "code",
   "execution_count": 76,
   "metadata": {
    "collapsed": false,
    "scrolled": true
   },
   "outputs": [
    {
     "name": "stdout",
     "output_type": "stream",
     "text": [
      "{}\n",
      "{'Black': 48.471284987180944, 'Native American/Native Alaskan': 8.717729026240365, 'Asian/Pacific Islander': 3.530346230970155, 'White': 4.6356417981453335, 'Hispanic': 12.627161104219914}\n"
     ]
    }
   ],
   "source": [
    "import csv\n",
    "import datetime\n",
    "\n",
    "guns_reader = csv.reader(open('guns.csv'))\n",
    "data = list(guns_reader)\n",
    "\n",
    "census_reader = csv.reader(open('census.csv'))\n",
    "census = list(census_reader)\n",
    "\n",
    "census_headers = census[0]\n",
    "census = census[1]\n",
    "\n",
    "data_headers = data[0]\n",
    "data = data[1:]\n",
    "\n",
    "dates = (datetime.datetime(year=int(i[1]), month=int(i[2]), day=1) for i in data)\n",
    "sex = (i[5] for i in data)\n",
    "race = (i[7] for i in data)\n",
    "intent = list((i[3] for i in data))\n",
    "\n",
    "date_count = {}\n",
    "sex_count = {}\n",
    "race_count = {}\n",
    "homicide_race_counts = {}\n",
    "\n",
    "for date in dates:\n",
    "    if date in date_count:\n",
    "        date_count[date] += 1\n",
    "    else:\n",
    "        date_count[date] = 1\n",
    "\n",
    "for i in sex:\n",
    "    if i in sex_count:\n",
    "        sex_count[i] += 1\n",
    "    else:\n",
    "        sex_count[i] = 1\n",
    "\n",
    "for i,rac in enumerate(race):\n",
    "    if rac not in homicide_race_counts:\n",
    "        homicide_race_counts[rac] = 0\n",
    "    if intent[i] == \"Homicide\":\n",
    "        homicide_race_counts[rac] += 1\n",
    "        \n",
    "mapping = {'Asian/Pacific Islander':(int(census[14]) + int(census[15])), 'Black':census[12], 'Hispanic':census[11], 'Native American/Native Alaskan':census[13], 'White':census[10]}\n",
    "race_per_hundredk = {}\n",
    "\n",
    "for i,j in race_count.items():\n",
    "    race_per_hundredk[i] = (int(j) / int(mapping[i])) * 100000\n",
    "\n",
    "for i,j in homicide_race_counts.items():\n",
    "    homicide_race_counts[i] = (int(j) / int(mapping[i])) * 100000\n",
    "\n",
    "print(homicide_race_counts)\n",
    "\n",
    "#Findings\n",
    "    #Homicide gun deaths disproportionally effect Hispanic and Black populations \n",
    "\n",
    "\n",
    "        "
   ]
  },
  {
   "cell_type": "code",
   "execution_count": 16,
   "metadata": {
    "collapsed": false
   },
   "outputs": [
    {
     "name": "stdout",
     "output_type": "stream",
     "text": [
      "[]\n",
      "[]\n"
     ]
    }
   ],
   "source": []
  },
  {
   "cell_type": "code",
   "execution_count": null,
   "metadata": {
    "collapsed": true
   },
   "outputs": [],
   "source": []
  }
 ],
 "metadata": {
  "kernelspec": {
   "display_name": "Python 3",
   "language": "python",
   "name": "python3"
  },
  "language_info": {
   "codemirror_mode": {
    "name": "ipython",
    "version": 3
   },
   "file_extension": ".py",
   "mimetype": "text/x-python",
   "name": "python",
   "nbconvert_exporter": "python",
   "pygments_lexer": "ipython3",
   "version": "3.4.3"
  }
 },
 "nbformat": 4,
 "nbformat_minor": 0
}
